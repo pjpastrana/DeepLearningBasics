{
 "cells": [
  {
   "cell_type": "code",
   "execution_count": 24,
   "metadata": {
    "collapsed": true
   },
   "outputs": [],
   "source": [
    "import collections\n",
    "import os\n",
    "import sys\n",
    "import time\n",
    "import numpy as np\n",
    "import tensorflow as tf\n",
    "from tensorflow.contrib import rnn"
   ]
  },
  {
   "cell_type": "code",
   "execution_count": 2,
   "metadata": {
    "collapsed": true
   },
   "outputs": [],
   "source": [
    "#https://medium.com/towards-data-science/lstm-by-example-using-tensorflow-feb0c1968537"
   ]
  },
  {
   "cell_type": "code",
   "execution_count": 3,
   "metadata": {
    "collapsed": true
   },
   "outputs": [],
   "source": [
    "def build_dataset(words):\n",
    "    count = collections.Counter(words).most_common()\n",
    "    dictionary = dict()\n",
    "    for word, _ in count:\n",
    "        dictionary[word] = len(dictionary)\n",
    "    reverse_dictionary = dict(zip(dictionary.values(), dictionary.keys()))\n",
    "    return dictionary, reverse_dictionary"
   ]
  },
  {
   "cell_type": "code",
   "execution_count": 5,
   "metadata": {},
   "outputs": [
    {
     "name": "stdout",
     "output_type": "stream",
     "text": [
      "Loaded training data...\n"
     ]
    }
   ],
   "source": [
    "def read_data(fname):\n",
    "    with open(fname) as f:\n",
    "        content = f.readlines()\n",
    "    content = [x.strip() for x in content]\n",
    "    content = [content[i].split() for i in range(len(content))]\n",
    "    content = np.array(content)\n",
    "    content = np.reshape(content, [-1, ])\n",
    "    return content\n",
    "\n",
    "training_data = read_data(\"data.txt\")\n",
    "print(\"Loaded training data...\")\n",
    "dictionary, reverse_dictionary = build_dataset(training_data)"
   ]
  },
  {
   "cell_type": "code",
   "execution_count": 6,
   "metadata": {},
   "outputs": [
    {
     "name": "stdout",
     "output_type": "stream",
     "text": [
      "['long' 'ago' ',' 'the' 'mice' 'had' 'a' 'general' 'council' 'to'\n",
      " 'consider' 'what' 'measures' 'they' 'could' 'take' 'to' 'outwit' 'their'\n",
      " 'common' 'enemy' ',' 'the' 'cat' '.' 'some' 'said' 'this' ',' 'and' 'some'\n",
      " 'said' 'that' 'but' 'at' 'last' 'a' 'young' 'mouse' 'got' 'up' 'and'\n",
      " 'said' 'he' 'had' 'a' 'proposal' 'to' 'make' ',' 'which' 'he' 'thought'\n",
      " 'would' 'meet' 'the' 'case' '.' 'you' 'will' 'all' 'agree' ',' 'said' 'he'\n",
      " ',' 'that' 'our' 'chief' 'danger' 'consists' 'in' 'the' 'sly' 'and'\n",
      " 'treacherous' 'manner' 'in' 'which' 'the' 'enemy' 'approaches' 'us' '.'\n",
      " 'now' ',' 'if' 'we' 'could' 'receive' 'some' 'signal' 'of' 'her'\n",
      " 'approach' ',' 'we' 'could' 'easily' 'escape' 'from' 'her' '.' 'i'\n",
      " 'venture' ',' 'therefore' ',' 'to' 'propose' 'that' 'a' 'small' 'bell'\n",
      " 'be' 'procured' ',' 'and' 'attached' 'by' 'a' 'ribbon' 'round' 'the'\n",
      " 'neck' 'of' 'the' 'cat' '.' 'by' 'this' 'means' 'we' 'should' 'always'\n",
      " 'know' 'when' 'she' 'was' 'about' ',' 'and' 'could' 'easily' 'retire'\n",
      " 'while' 'she' 'was' 'in' 'the' 'neighbourhood' '.' 'this' 'proposal' 'met'\n",
      " 'with' 'general' 'applause' ',' 'until' 'an' 'old' 'mouse' 'got' 'up'\n",
      " 'and' 'said' 'that' 'is' 'all' 'very' 'well' ',' 'but' 'who' 'is' 'to'\n",
      " 'bell' 'the' 'cat' '?' 'the' 'mice' 'looked' 'at' 'one' 'another' 'and'\n",
      " 'nobody' 'spoke' '.' 'then' 'the' 'old' 'mouse' 'said' 'it' 'is' 'easy'\n",
      " 'to' 'propose' 'impossible' 'remedies' '.']\n",
      "{'ribbon': 37, 'cat': 9, 'at': 17, 'her': 18, 'easily': 27, 'consider': 39, 'of': 19, 'us': 105, 'know': 40, 'had': 20, 'up': 21, 'by': 22, 'when': 41, 'said': 4, 'from': 44, '.': 2, 'signal': 45, 'in': 10, 'danger': 46, 'retire': 47, 'got': 23, 'last': 49, 'chief': 50, 'should': 104, 'neighbourhood': 51, 'venture': 52, 'procured': 53, 'she': 29, 'mouse': 11, 'our': 76, 'we': 12, 'escape': 55, 'the': 1, 'if': 56, 'approaches': 99, 'that': 7, 'easy': 42, 'case': 58, 'receive': 102, 'an': 59, 'agree': 60, 'mice': 25, 'propose': 26, 'measures': 38, 'what': 62, 'outwit': 63, 'now': 64, 'i': 65, 'impossible': 66, 'could': 8, 'take': 68, 'be': 69, 'he': 13, 'a': 6, 'will': 71, 'their': 92, 'council': 72, 'therefore': 73, 'common': 74, 'small': 75, 'always': 54, 'and': 3, 'treacherous': 77, 'neck': 78, 'they': 79, 'proposal': 28, 'make': 80, 'is': 14, 'sly': 81, 'consists': 82, 'long': 108, 'round': 84, 'spoke': 85, 'all': 30, 'attached': 106, 'while': 86, 'bell': 31, 'very': 87, 'with': 88, 'until': 89, 'about': 57, 'who': 90, 'you': 91, 'old': 32, 'would': 93, 'some': 15, 'ago': 94, 'another': 109, 'approach': 96, 'remedies': 70, 'applause': 97, '?': 98, ',': 0, 'looked': 43, 'this': 16, 'nobody': 100, 'manner': 101, 'thought': 67, 'then': 48, 'one': 103, 'enemy': 24, 'but': 33, 'young': 61, 'to': 5, 'general': 34, 'well': 107, 'met': 83, 'was': 35, 'which': 36, 'it': 95, 'means': 110, 'meet': 111}\n",
      "{0: ',', 1: 'the', 2: '.', 3: 'and', 4: 'said', 5: 'to', 6: 'a', 7: 'that', 8: 'could', 9: 'cat', 10: 'in', 11: 'mouse', 12: 'we', 13: 'he', 14: 'is', 15: 'some', 16: 'this', 17: 'at', 18: 'her', 19: 'of', 20: 'had', 21: 'up', 22: 'by', 23: 'got', 24: 'enemy', 25: 'mice', 26: 'propose', 27: 'easily', 28: 'proposal', 29: 'she', 30: 'all', 31: 'bell', 32: 'old', 33: 'but', 34: 'general', 35: 'was', 36: 'which', 37: 'ribbon', 38: 'measures', 39: 'consider', 40: 'know', 41: 'when', 42: 'easy', 43: 'looked', 44: 'from', 45: 'signal', 46: 'danger', 47: 'retire', 48: 'then', 49: 'last', 50: 'chief', 51: 'neighbourhood', 52: 'venture', 53: 'procured', 54: 'always', 55: 'escape', 56: 'if', 57: 'about', 58: 'case', 59: 'an', 60: 'agree', 61: 'young', 62: 'what', 63: 'outwit', 64: 'now', 65: 'i', 66: 'impossible', 67: 'thought', 68: 'take', 69: 'be', 70: 'remedies', 71: 'will', 72: 'council', 73: 'therefore', 74: 'common', 75: 'small', 76: 'our', 77: 'treacherous', 78: 'neck', 79: 'they', 80: 'make', 81: 'sly', 82: 'consists', 83: 'met', 84: 'round', 85: 'spoke', 86: 'while', 87: 'very', 88: 'with', 89: 'until', 90: 'who', 91: 'you', 92: 'their', 93: 'would', 94: 'ago', 95: 'it', 96: 'approach', 97: 'applause', 98: '?', 99: 'approaches', 100: 'nobody', 101: 'manner', 102: 'receive', 103: 'one', 104: 'should', 105: 'us', 106: 'attached', 107: 'well', 108: 'long', 109: 'another', 110: 'means', 111: 'meet'}\n"
     ]
    }
   ],
   "source": [
    "print(training_data)\n",
    "print(dictionary)\n",
    "print(reverse_dictionary)"
   ]
  },
  {
   "cell_type": "code",
   "execution_count": 7,
   "metadata": {
    "collapsed": true
   },
   "outputs": [],
   "source": [
    "vocab_size = len(dictionary)\n",
    "\n",
    "# Parameters\n",
    "learning_rate = 0.001\n",
    "training_iters = 50000\n",
    "display_step = 1000\n",
    "n_input = 3 # PJ: context window?\n",
    "\n",
    "# number of units in RNN cell\n",
    "n_hidden = 512\n",
    "\n",
    "# tf Graph input\n",
    "x = tf.placeholder(\"float\", [None, n_input, 1])\n",
    "y = tf.placeholder(\"float\", [None, vocab_size])\n",
    "\n",
    "# RNN output node weights and biases\n",
    "weights = {\n",
    "    'out': tf.Variable(tf.random_normal([n_hidden, vocab_size]))\n",
    "}\n",
    "biases = {\n",
    "    'out': tf.Variable(tf.random_normal([vocab_size]))\n",
    "}\n"
   ]
  },
  {
   "cell_type": "code",
   "execution_count": 8,
   "metadata": {
    "collapsed": true
   },
   "outputs": [],
   "source": [
    "def RNN(x, weights, biases, n_input, n_hidden):\n",
    "    x = tf.reshape(x, [-1, n_input])\n",
    "    x = tf.split(x, n_input, 1)\n",
    "    rnn_cell = rnn.BasicLSTMCell(n_hidden)\n",
    "    outputs, states = rnn.static_rnn(rnn_cell, x, dtype=tf.float32)\n",
    "    return tf.matmul(outputs[-1], weights['out']) + biases['out']"
   ]
  },
  {
   "cell_type": "code",
   "execution_count": 9,
   "metadata": {},
   "outputs": [],
   "source": [
    "model = RNN(x, weights, biases, n_input, n_hidden)"
   ]
  },
  {
   "cell_type": "code",
   "execution_count": 10,
   "metadata": {},
   "outputs": [],
   "source": [
    "cost = tf.reduce_mean(tf.nn.softmax_cross_entropy_with_logits(logits=model, labels=y))\n",
    "optimizer = tf.train.RMSPropOptimizer(learning_rate=learning_rate).minimize(cost)"
   ]
  },
  {
   "cell_type": "code",
   "execution_count": 11,
   "metadata": {
    "collapsed": true
   },
   "outputs": [],
   "source": [
    "# Model evaluation\n",
    "correct_pred = tf.equal(tf.argmax(model, 1), tf.argmax(y,1))\n",
    "accuracy = tf.reduce_mean(tf.cast(correct_pred, tf.float32))"
   ]
  },
  {
   "cell_type": "code",
   "execution_count": 25,
   "metadata": {
    "collapsed": true
   },
   "outputs": [],
   "source": [
    "def elapsed(sec):\n",
    "    if sec<60:\n",
    "        return str(sec) + \" sec\"\n",
    "    elif sec<(60*60):\n",
    "        return str(sec/60) + \" min\"\n",
    "    else:\n",
    "        return str(sec/(60*60)) + \" hr\""
   ]
  },
  {
   "cell_type": "code",
   "execution_count": 28,
   "metadata": {
    "collapsed": true
   },
   "outputs": [],
   "source": [
    "# Target log path\n",
    "logs_path = './rnn_words'\n",
    "writer = tf.summary.FileWriter(logs_path)"
   ]
  },
  {
   "cell_type": "code",
   "execution_count": 30,
   "metadata": {},
   "outputs": [
    {
     "name": "stdout",
     "output_type": "stream",
     "text": [
      "Iter= 1000, Average Loss= 5.957999, Average Accuracy= 3.20%\n",
      "['and', 'said', 'that'] - [is] vs [.]\n",
      "Iter= 2000, Average Loss= 3.963320, Average Accuracy= 7.60%\n",
      "['with', 'general', 'applause'] - [,] vs [in]\n",
      "Iter= 3000, Average Loss= 3.010660, Average Accuracy= 21.00%\n",
      "['know', 'when', 'she'] - [was] vs [.]\n",
      "Iter= 4000, Average Loss= 2.581316, Average Accuracy= 36.50%\n",
      "[',', 'to', 'propose'] - [that] vs [that]\n",
      "Iter= 5000, Average Loss= 2.356636, Average Accuracy= 39.70%\n",
      "['we', 'could', 'easily'] - [escape] vs [escape]\n",
      "Iter= 6000, Average Loss= 2.024881, Average Accuracy= 49.80%\n",
      "['danger', 'consists', 'in'] - [the] vs [to]\n",
      "Iter= 7000, Average Loss= 1.746271, Average Accuracy= 56.80%\n",
      "['had', 'a', 'proposal'] - [to] vs [to]\n",
      "Iter= 8000, Average Loss= 1.492925, Average Accuracy= 62.40%\n",
      "['enemy', ',', 'the'] - [cat] vs [cat]\n",
      "Iter= 9000, Average Loss= 1.475918, Average Accuracy= 63.30%\n",
      "['said', 'it', 'is'] - [easy] vs [a]\n",
      "Iter= 10000, Average Loss= 1.201294, Average Accuracy= 70.80%\n",
      "['bell', 'the', 'cat'] - [?] vs [?]\n",
      "Iter= 11000, Average Loss= 1.246335, Average Accuracy= 70.00%\n",
      "['mouse', 'got', 'up'] - [and] vs [and]\n",
      "Iter= 12000, Average Loss= 1.026969, Average Accuracy= 76.40%\n",
      "['could', 'easily', 'retire'] - [while] vs [while]\n",
      "Iter= 13000, Average Loss= 1.071634, Average Accuracy= 73.70%\n",
      "['round', 'the', 'neck'] - [of] vs [,]\n",
      "Iter= 14000, Average Loss= 0.911974, Average Accuracy= 78.50%\n",
      "[',', 'we', 'could'] - [easily] vs [easily]\n",
      "Iter= 15000, Average Loss= 0.885012, Average Accuracy= 80.10%\n",
      "['he', ',', 'that'] - [our] vs [our]\n",
      "Iter= 16000, Average Loss= 0.916547, Average Accuracy= 79.70%\n",
      "['got', 'up', 'and'] - [said] vs [said]\n",
      "Iter= 17000, Average Loss= 0.866752, Average Accuracy= 79.80%\n",
      "['this', ',', 'and'] - [some] vs [some]\n",
      "Iter= 18000, Average Loss= 0.775477, Average Accuracy= 83.10%\n",
      "['mice', 'had', 'a'] - [general] vs [general]\n",
      "Iter= 19000, Average Loss= 0.733086, Average Accuracy= 84.60%\n",
      "['the', 'old', 'mouse'] - [said] vs [said]\n",
      "Iter= 20000, Average Loss= 0.744203, Average Accuracy= 82.70%\n",
      "['that', 'is', 'all'] - [very] vs [very]\n",
      "Iter= 21000, Average Loss= 0.715654, Average Accuracy= 84.30%\n",
      "[',', 'until', 'an'] - [old] vs [old]\n",
      "Iter= 22000, Average Loss= 0.694597, Average Accuracy= 84.60%\n",
      "['about', ',', 'and'] - [could] vs [attached]\n",
      "Iter= 23000, Average Loss= 0.671102, Average Accuracy= 83.70%\n",
      "[',', 'and', 'attached'] - [by] vs [by]\n",
      "Iter= 24000, Average Loss= 0.637194, Average Accuracy= 83.00%\n",
      "['her', '.', 'i'] - [venture] vs [venture]\n",
      "Iter= 25000, Average Loss= 0.620606, Average Accuracy= 84.30%\n",
      "['could', 'receive', 'some'] - [signal] vs [signal]\n",
      "Iter= 26000, Average Loss= 0.634990, Average Accuracy= 85.90%\n",
      "['danger', 'consists', 'in'] - [the] vs [the]\n",
      "Iter= 27000, Average Loss= 0.550792, Average Accuracy= 86.00%\n",
      "[',', 'which', 'he'] - [thought] vs [thought]\n",
      "Iter= 28000, Average Loss= 0.631117, Average Accuracy= 83.50%\n",
      "['last', 'a', 'young'] - [mouse] vs [mouse]\n",
      "Iter= 29000, Average Loss= 0.633027, Average Accuracy= 83.90%\n",
      "['council', 'to', 'consider'] - [what] vs [what]\n",
      "Iter= 30000, Average Loss= 0.707854, Average Accuracy= 83.00%\n",
      "['to', 'bell', 'the'] - [cat] vs [cat]\n",
      "Iter= 31000, Average Loss= 0.591745, Average Accuracy= 86.50%\n",
      "['general', 'applause', ','] - [until] vs [until]\n",
      "Iter= 32000, Average Loss= 0.536826, Average Accuracy= 86.60%\n",
      "['neck', 'of', 'the'] - [cat] vs [cat]\n",
      "Iter= 33000, Average Loss= 0.520885, Average Accuracy= 87.20%\n",
      "['a', 'small', 'bell'] - [be] vs [be]\n",
      "Iter= 34000, Average Loss= 0.611773, Average Accuracy= 85.20%\n",
      "[',', 'we', 'could'] - [easily] vs [easily]\n",
      "Iter= 35000, Average Loss= 0.571242, Average Accuracy= 85.70%\n",
      "['our', 'chief', 'danger'] - [consists] vs [could]\n",
      "Iter= 36000, Average Loss= 0.510050, Average Accuracy= 87.80%\n",
      "['to', 'make', ','] - [which] vs [which]\n",
      "Iter= 37000, Average Loss= 0.548338, Average Accuracy= 87.10%\n",
      "['cat', '.', 'some'] - [said] vs [said]\n",
      "Iter= 38000, Average Loss= 0.500132, Average Accuracy= 87.50%\n",
      "['a', 'general', 'council'] - [to] vs [to]\n",
      "Iter= 39000, Average Loss= 0.504878, Average Accuracy= 86.00%\n",
      "['bell', 'the', 'cat'] - [?] vs [?]\n",
      "Iter= 40000, Average Loss= 0.509525, Average Accuracy= 86.90%\n",
      "['got', 'up', 'and'] - [said] vs [said]\n",
      "Iter= 41000, Average Loss= 0.494036, Average Accuracy= 87.90%\n",
      "['was', 'about', ','] - [and] vs [said]\n",
      "Iter= 42000, Average Loss= 0.558812, Average Accuracy= 87.90%\n",
      "['small', 'bell', 'be'] - [procured] vs [,]\n",
      "Iter= 43000, Average Loss= 0.467546, Average Accuracy= 88.90%\n",
      "['approach', ',', 'we'] - [could] vs [could]\n",
      "Iter= 44000, Average Loss= 0.449837, Average Accuracy= 89.10%\n",
      "['manner', 'in', 'which'] - [the] vs [the]\n",
      "Iter= 45000, Average Loss= 0.467406, Average Accuracy= 88.50%\n",
      "['.', 'you', 'will'] - [all] vs [all]\n",
      "Iter= 46000, Average Loss= 0.446023, Average Accuracy= 89.10%\n",
      "['said', 'that', 'but'] - [at] vs [at]\n",
      "Iter= 47000, Average Loss= 0.461612, Average Accuracy= 89.00%\n",
      "['take', 'to', 'outwit'] - [their] vs [their]\n",
      "Iter= 48000, Average Loss= 0.531583, Average Accuracy= 88.20%\n",
      "['easy', 'to', 'propose'] - [impossible] vs [impossible]\n",
      "Iter= 49000, Average Loss= 0.496606, Average Accuracy= 89.00%\n",
      "['bell', 'the', 'cat'] - [?] vs [?]\n",
      "Iter= 50000, Average Loss= 0.396126, Average Accuracy= 90.20%\n",
      "['in', 'the', 'neighbourhood'] - [.] vs [.]\n",
      "Optimization Finished!\n",
      "Elapsed time:  6.242298257350922 min\n",
      "Run on command line.\n",
      "\ttensorboard --logdir=./rnn_words\n",
      "Point your web browser to: http://localhost:6006/\n"
     ]
    }
   ],
   "source": [
    "# Initializing the variables\n",
    "init = tf.global_variables_initializer()\n",
    "start_time = time.time()\n",
    "# Launch the graph\n",
    "with tf.Session() as session:\n",
    "    session.run(init)\n",
    "    step = 0\n",
    "    offset = np.random.randint(0,n_input+1)\n",
    "    end_offset = n_input + 1\n",
    "    acc_total = 0\n",
    "    loss_total = 0\n",
    "\n",
    "    writer.add_graph(session.graph)\n",
    "\n",
    "    while step < training_iters:\n",
    "        # Generate a minibatch. Add some randomness on selection process.\n",
    "        if offset > (len(training_data)-end_offset):\n",
    "            offset = np.random.randint(0, n_input+1)\n",
    "\n",
    "        symbols_in_keys = [ [dictionary[ str(training_data[i])]] for i in range(offset, offset+n_input) ]\n",
    "        symbols_in_keys = np.reshape(np.array(symbols_in_keys), [-1, n_input, 1])\n",
    "\n",
    "        symbols_out_onehot = np.zeros([vocab_size], dtype=float)\n",
    "        symbols_out_onehot[dictionary[str(training_data[offset+n_input])]] = 1.0\n",
    "        symbols_out_onehot = np.reshape(symbols_out_onehot,[1,-1])\n",
    "\n",
    "        _, acc, loss, onehot_pred = session.run([optimizer, accuracy, cost, model], \\\n",
    "                                                feed_dict={x: symbols_in_keys, y: symbols_out_onehot})\n",
    "        loss_total += loss\n",
    "        acc_total += acc\n",
    "        if (step+1) % display_step == 0:\n",
    "            print(\"Iter= \" + str(step+1) + \", Average Loss= \" + \\\n",
    "                  \"{:.6f}\".format(loss_total/display_step) + \", Average Accuracy= \" + \\\n",
    "                  \"{:.2f}%\".format(100*acc_total/display_step))\n",
    "            acc_total = 0\n",
    "            loss_total = 0\n",
    "            symbols_in = [training_data[i] for i in range(offset, offset + n_input)]\n",
    "            symbols_out = training_data[offset + n_input]\n",
    "            symbols_out_pred = reverse_dictionary[int(tf.argmax(onehot_pred, 1).eval())]\n",
    "            print(\"%s - [%s] vs [%s]\" % (symbols_in,symbols_out,symbols_out_pred))\n",
    "        step += 1\n",
    "        offset += (n_input+1)\n",
    "    print(\"Optimization Finished!\")\n",
    "    print(\"Elapsed time: \", elapsed(time.time() - start_time))\n",
    "    print(\"Run on command line.\")\n",
    "    print(\"\\ttensorboard --logdir=%s\" % (logs_path))\n",
    "    print(\"Point your web browser to: http://localhost:6006/\")"
   ]
  }
 ],
 "metadata": {
  "kernelspec": {
   "display_name": "Python 3",
   "language": "python",
   "name": "python3"
  },
  "language_info": {
   "codemirror_mode": {
    "name": "ipython",
    "version": 3
   },
   "file_extension": ".py",
   "mimetype": "text/x-python",
   "name": "python",
   "nbconvert_exporter": "python",
   "pygments_lexer": "ipython3",
   "version": "3.5.3"
  }
 },
 "nbformat": 4,
 "nbformat_minor": 2
}
